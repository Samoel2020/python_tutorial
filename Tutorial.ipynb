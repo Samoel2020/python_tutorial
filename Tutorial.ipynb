{
  "nbformat": 4,
  "nbformat_minor": 0,
  "metadata": {
    "colab": {
      "name": "Tutorial",
      "provenance": [],
      "authorship_tag": "ABX9TyM25cSZOg22ZkaGBq1UvdVe",
      "include_colab_link": true
    },
    "kernelspec": {
      "name": "python3",
      "display_name": "Python 3"
    },
    "language_info": {
      "name": "python"
    }
  },
  "cells": [
    {
      "cell_type": "markdown",
      "metadata": {
        "id": "view-in-github",
        "colab_type": "text"
      },
      "source": [
        "<a href=\"https://colab.research.google.com/github/Samoel2020/python_tutorial/blob/main/Tutorial.ipynb\" target=\"_parent\"><img src=\"https://colab.research.google.com/assets/colab-badge.svg\" alt=\"Open In Colab\"/></a>"
      ]
    },
    {
      "cell_type": "markdown",
      "metadata": {
        "id": "wgPYsSb-kPWS"
      },
      "source": [
        "# Samouel Tutorial\n",
        "## Python Code\n",
        "\n",
        "- one\n",
        "- two\n",
        "- [ ] check\n",
        "- [x] no check\n",
        "This is text cell (MarkDown Syntax)"
      ]
    },
    {
      "cell_type": "code",
      "metadata": {
        "colab": {
          "base_uri": "https://localhost:8080/"
        },
        "id": "FJh9c6EzkObh",
        "outputId": "580b5411-160b-4d15-ac73-f99a05dd3d85"
      },
      "source": [
        "print(\"This is code cell\")"
      ],
      "execution_count": 1,
      "outputs": [
        {
          "output_type": "stream",
          "text": [
            "This is code cell\n"
          ],
          "name": "stdout"
        }
      ]
    }
  ]
}